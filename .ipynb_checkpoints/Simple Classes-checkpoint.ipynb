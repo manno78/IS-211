{
 "cells": [
  {
   "cell_type": "code",
   "execution_count": 1,
   "metadata": {
    "collapsed": true
   },
   "outputs": [],
   "source": [
    "# clsWriteFile is the parent class. It contains functions to:\n",
    "# print the object\n",
    "# write a line to a file\n",
    "# return the object's filename \n",
    "# return the contents of the object's file as a string.\n",
    "class clsWriteFile:\n",
    "    \"\"\"Writes text to specified file\n",
    "\n",
    "    :param FileName: string, the file being written to.\n",
    "    :param Overwrite: boolean, if the file exits should it be overwritten\n",
    "    \"\"\"\n",
    "    def __init__(self, initFileName, initOverwrite=True):\n",
    "        self.FileName = initFileName\n",
    "        self.Overwrite = initOverwrite\n",
    "        if self.Overwrite == True:\n",
    "            File = open(self.FileName, \"w\")\n",
    "            File.close()\n",
    "            \n",
    "    # to print the object\n",
    "    def __str__(self):\n",
    "        return self.FileName + \": \\n\" + self.getFileContents()\n",
    "\n",
    "    # write a line to the file\n",
    "    def setWriteFile(self, NewText):\n",
    "        \"\"\"writes the supplied string to the file\"\"\"\n",
    "        File = open(self.FileName, \"a+\")\n",
    "        File.write(NewText)\n",
    "        File.close()\n",
    "        \n",
    "    # return the objects filename\n",
    "    def getFileName(self):\n",
    "        return FileName\n",
    "    \n",
    "    # return the contents of the file\n",
    "    def getFileContents(self):\n",
    "        File = open(self.FileName, \"r\")\n",
    "        FileText = File.read()\n",
    "        File.close()\n",
    "        return FileText"
   ]
  },
  {
   "cell_type": "code",
   "execution_count": 2,
   "metadata": {
    "collapsed": true
   },
   "outputs": [],
   "source": [
    "# clsLogFile is a child of clsWriteFile\n",
    "class clsLogFile(clsWriteFile):\n",
    "    \"\"\" Writes text to specified log file \"\"\"\n",
    "    def __init__(self, initFileName, initOverwrite=True):\n",
    "        self.FileName = initFileName\n",
    "        self.Overwrite = initOverwrite\n",
    "        if self.Overwrite == True:\n",
    "            File = open(self.FileName, \"w\")\n",
    "            File.close()\n",
    "        # holds the index of the current log entry\n",
    "        self.LogCount = 1\n",
    "\n",
    "    # an overide of the setWriteFile function for the child class clsLogFile\n",
    "    # This version adds the log entry index, and increments it\n",
    "    def setWriteFile(self, LogText):\n",
    "        \"\"\"writes the supplied string to the file\"\"\"\n",
    "        File = open(self.FileName, \"a+\")\n",
    "        File.write(str(self.LogCount) + \": \" + LogText + \"\\r\")\n",
    "        File.close()\n",
    "        self.LogCount += 1"
   ]
  },
  {
   "cell_type": "code",
   "execution_count": 3,
   "metadata": {
    "collapsed": true
   },
   "outputs": [],
   "source": [
    "# clsUserFile is a child of clsWriteFile\n",
    "class clsUserFile(clsWriteFile):\n",
    "    \"\"\"Writes text to specified log file\n",
    "\n",
    "    :param UserID: string, The user writing to this log. \n",
    "    \"\"\"\n",
    "    def __init__(self, initFileName, initUserID, initOverwrite=True):\n",
    "        self.FileName = initFileName\n",
    "        self.UserID = initUserID\n",
    "        self.Overwrite = initOverwrite\n",
    "        if self.Overwrite == True:\n",
    "            File = open(self.FileName, \"w\")\n",
    "            File.close()\n",
    "\n",
    "    # an overide of the setWriteFile function for the child class clsUserFile\n",
    "    # this version adds the UserID to the line of text output\n",
    "    def setWriteFile(self, LogText):\n",
    "        \"\"\"writes the supplied string to the file\"\"\"\n",
    "        File = open(self.FileName, \"a+\")\n",
    "        File.write(self.UserID + \": \" + LogText + \"\\r\")\n",
    "        File.close()"
   ]
  },
  {
   "cell_type": "code",
   "execution_count": 4,
   "metadata": {
    "collapsed": true
   },
   "outputs": [],
   "source": [
    "objLogFile = clsLogFile(\"Log File.txt\", True)              # create log file object \n",
    "objUserFile = clsUserFile(\"User File.txt\", \"BBonds\")       # create user file object\n",
    "\n",
    "# from 0 to 100\n",
    "for i in range (0,101):\n",
    "    # if evenly divisible by 25\n",
    "    if i % 25 == 0:\n",
    "        # then write the value of i to a log file\n",
    "        objLogFile.setWriteFile(\"We are at \" + str(i) + \"%\")\n",
    "\n",
    "    # if i > 0 & divisible by 50\n",
    "    if (i > 0) & (i % 50 == 0):\n",
    "        #then write the value of i to the user file\n",
    "        objUserFile.setWriteFile(\"Cycle \" + str(i) + \"% complete.\")\n"
   ]
  },
  {
   "cell_type": "code",
   "execution_count": 5,
   "metadata": {},
   "outputs": [
    {
     "name": "stdout",
     "output_type": "stream",
     "text": [
      "Log File.txt: \n",
      "1: We are at 0%\n",
      "2: We are at 25%\n",
      "3: We are at 50%\n",
      "4: We are at 75%\n",
      "5: We are at 100%\n",
      "\n",
      "User File.txt: \n",
      "BBonds: Cycle 50% complete.\n",
      "BBonds: Cycle 100% complete.\n",
      "\n"
     ]
    }
   ],
   "source": [
    "print(objLogFile)\n",
    "print(objUserFile)"
   ]
  },
  {
   "cell_type": "code",
   "execution_count": null,
   "metadata": {
    "collapsed": true
   },
   "outputs": [],
   "source": []
  }
 ],
 "metadata": {
  "kernelspec": {
   "display_name": "Python 3",
   "language": "python",
   "name": "python3"
  },
  "language_info": {
   "codemirror_mode": {
    "name": "ipython",
    "version": 3
   },
   "file_extension": ".py",
   "mimetype": "text/x-python",
   "name": "python",
   "nbconvert_exporter": "python",
   "pygments_lexer": "ipython3",
   "version": "3.6.1"
  }
 },
 "nbformat": 4,
 "nbformat_minor": 2
}
